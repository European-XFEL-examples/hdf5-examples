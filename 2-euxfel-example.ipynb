{
 "cells": [
  {
   "cell_type": "markdown",
   "metadata": {},
   "source": [
    "Now we'll look at some data from the European XFEL.\n",
    "\n",
    "For this example we'll use the same data used in a pubilcation on megahertz serial crystallography ([10.1038/s41467-018-06156-7](https://www.nature.com/articles/s41467-018-06156-7)). The data is available on [CXIDB](https://cxidb.org/id-83.html)\n",
    "\n",
    "Problematically, the whole proposal has over 145 TB of data, with a single run being hundreds of gigabytes, as such we will instead only download a small fraction of that data.\n",
    "\n",
    "This has been uploaded to `https://s3.eu-central-1.wasabisys.com/panosc/data_subset.h5`, however this is only temporarily available."
   ]
  },
  {
   "cell_type": "code",
   "execution_count": null,
   "metadata": {},
   "outputs": [],
   "source": [
    "import h5py"
   ]
  },
  {
   "cell_type": "code",
   "execution_count": null,
   "metadata": {},
   "outputs": [],
   "source": [
    "f = h5py.File(\"./examples/euxfel/data-subset.h5\", 'r')"
   ]
  },
  {
   "cell_type": "markdown",
   "metadata": {},
   "source": [
    "We can now look at the file using `h5glance` to get a feel for its structure:"
   ]
  },
  {
   "cell_type": "code",
   "execution_count": null,
   "metadata": {},
   "outputs": [],
   "source": [
    "from h5glance import H5Glance"
   ]
  },
  {
   "cell_type": "code",
   "execution_count": null,
   "metadata": {},
   "outputs": [],
   "source": [
    "H5Glance(f)"
   ]
  },
  {
   "cell_type": "markdown",
   "metadata": {},
   "source": [
    "You can click the `⊞` symbol to expand the datasets and drill down through the structure of the file\n",
    "\n",
    "Once you find an interesting field you can click the clipboard icon `📋` to copy the path to that dataset\n",
    "\n",
    "You can try looking at different parts of the data and plotting them as in the previous example."
   ]
  },
  {
   "cell_type": "code",
   "execution_count": null,
   "metadata": {},
   "outputs": [],
   "source": [
    "# go wild"
   ]
  },
  {
   "cell_type": "markdown",
   "metadata": {},
   "source": [
    "As you can see the structure of this data is quite complicated, and will quickly become awkward to work with as it is quite deeply nested.\n",
    "\n",
    "This is why European XFEL developed a package called `karabo data` makes data analysis much easier with our files.\n",
    "\n",
    "Carry on to the third example to see how `karabo data` is used."
   ]
  }
 ],
 "metadata": {
  "kernelspec": {
   "display_name": "Python 3",
   "language": "python",
   "name": "python3"
  },
  "language_info": {
   "codemirror_mode": {
    "name": "ipython",
    "version": 3
   },
   "file_extension": ".py",
   "mimetype": "text/x-python",
   "name": "python",
   "nbconvert_exporter": "python",
   "pygments_lexer": "ipython3",
   "version": "3.6.7"
  }
 },
 "nbformat": 4,
 "nbformat_minor": 4
}
